{
 "cells": [
  {
   "cell_type": "markdown",
   "metadata": {
    "collapsed": true
   },
   "source": [
    "### Predicting West Nile Virus in Chicago\n",
    "\n",
    "This project was to predict the probability that a mosquito trap in Chicago will have captured a mosquito with West Nile Virus (WNV). This is a closed competition on Kaggle, but still accepts submissions and will tell you where your submission would have ranked and what your area under the curve (AUC) score would be on the test data set.\n",
    "\n",
    "The training data contains information on if WNV was present in a trap when it was checked in 2007, 2009, 2011, and 2013, along with the date it was checked, the species of mosquito that were found, and the number of mosquitos found. This was tested against data from 2008, 2010, 2012, and 2014, with the same information included except for if West Nile Virus was present when the trap was checked and the number of mosquitos in a trap."
   ]
  },
  {
   "cell_type": "markdown",
   "metadata": {},
   "source": [
    "First, we need to read in our data and import all necessary libraries."
   ]
  },
  {
   "cell_type": "code",
   "execution_count": 1,
   "metadata": {
    "collapsed": true
   },
   "outputs": [],
   "source": [
    "import pandas as pd\n",
    "import matplotlib.pyplot as plt\n",
    "\n",
    "from sklearn.preprocessing import LabelEncoder\n",
    "from sklearn.cross_validation import cross_val_score, StratifiedKFold , train_test_split\n",
    "from sklearn.metrics import accuracy_score, confusion_matrix, classification_report, roc_curve, auc\n",
    "from sklearn.ensemble import RandomForestClassifier, GradientBoostingClassifier\n",
    "import xgboost as xgb\n",
    "from sklearn.grid_search import GridSearchCV\n",
    "\n",
    "# cleaning up the notebook\n",
    "import warnings\n",
    "warnings.filterwarnings('ignore')\n",
    "\n",
    "df = pd.read_csv('/Users/jcarr/downloads/train.csv')"
   ]
  },
  {
   "cell_type": "markdown",
   "metadata": {},
   "source": [
    "The data given requires several transformations. The date field needed to be turned into a datetime from a string, and then month, year, and week number (i.e. the first week in a given month, second week, etc) extracted from that.\n",
    "\n",
    "The main transformation that needed to take place was to count the number of records for traps that were checked on a given day. The competition did not provide the number of mosquitos that were found in a trap in the test data, but it was included in the training data. However, from reviewing the number of mosquitos listed in the training data it was determined that the total number of records for a trap on a given day could be used as a proxy for the number of mosquitos in a trap. Each row represents a group of 50 mosquitos. If a trap was checked and had 150 mosquitos in it, this data would be presented in 3 rows, with 3 separate groups of 50 mosquitos evaluated for the presence of WNV. While the number of mosquitos was not made available as part of the test set, counting the number of records for a trap on a given day provides us with a suitable proxy for number of mosquitos found in a trap."
   ]
  },
  {
   "cell_type": "code",
   "execution_count": 3,
   "metadata": {
    "collapsed": true
   },
   "outputs": [],
   "source": [
    "df['Date'] = pd.to_datetime(df['Date'])\n",
    "df['month'] = df.Date.apply(lambda x: x.month)\n",
    "df['year'] = df.Date.apply(lambda x: x.year)\n",
    "df['WkNb'] = df.Date.apply(lambda x: float(x.strftime(\"%U\")))\n",
    "df['Trap'] = df.Trap.str[:4]\n",
    "\n",
    "## Create column w just '1' in each column to sum and weight traps with more mosquitos\n",
    "\n",
    "df['weight'] = 1\n",
    "\n",
    "## Sum of traps having WNV by month, put in new DFs\n",
    "\n",
    "df_2 = df.groupby(['Date','Trap']).weight.sum().reset_index()\n",
    "\n",
    "df_target = df.groupby(['Date','Trap']).WnvPresent.max().reset_index()\n",
    "\n",
    "## extract month and year from date format\n",
    "\n",
    "df_2['Date'] = pd.to_datetime(df_2['Date'])\n",
    "df_2['month'] = df_2.Date.apply(lambda x: x.month)\n",
    "df_2['year'] = df_2.Date.apply(lambda x: x.year)\n",
    "df_2['WkNb'] = df_2.Date.apply(lambda x: float(x.strftime(\"%U\")))"
   ]
  },
  {
   "cell_type": "markdown",
   "metadata": {},
   "source": [
    "After the transformations above, my partner and I decided to assign weights to traps based on the prevalence of WNV in a given trap in the years that we knew WNV was there. (Note - this was a bit of a hack given that this was a Kaggle competition. This likely would not have been as good of an option if the competition was not set up this way, but it proved to be effective for our purposes). We assigned a weight based on the number of rows that did have WNV present out of the number that had no WNV present within a given month over the 4 years of data. The first few rows of this weighted data are output by the cell below."
   ]
  },
  {
   "cell_type": "code",
   "execution_count": 4,
   "metadata": {
    "collapsed": false
   },
   "outputs": [
    {
     "data": {
      "text/html": [
       "<div>\n",
       "<table border=\"1\" class=\"dataframe\">\n",
       "  <thead>\n",
       "    <tr style=\"text-align: right;\">\n",
       "      <th></th>\n",
       "      <th>Trap</th>\n",
       "      <th>month</th>\n",
       "      <th>weight</th>\n",
       "      <th>WNV</th>\n",
       "      <th>WNV_ratio</th>\n",
       "    </tr>\n",
       "  </thead>\n",
       "  <tbody>\n",
       "    <tr>\n",
       "      <th>0</th>\n",
       "      <td>T001</td>\n",
       "      <td>6</td>\n",
       "      <td>1</td>\n",
       "      <td>0.0</td>\n",
       "      <td>0.000000</td>\n",
       "    </tr>\n",
       "    <tr>\n",
       "      <th>1</th>\n",
       "      <td>T001</td>\n",
       "      <td>7</td>\n",
       "      <td>2</td>\n",
       "      <td>0.0</td>\n",
       "      <td>0.000000</td>\n",
       "    </tr>\n",
       "    <tr>\n",
       "      <th>2</th>\n",
       "      <td>T001</td>\n",
       "      <td>8</td>\n",
       "      <td>9</td>\n",
       "      <td>0.0</td>\n",
       "      <td>0.000000</td>\n",
       "    </tr>\n",
       "    <tr>\n",
       "      <th>3</th>\n",
       "      <td>T001</td>\n",
       "      <td>9</td>\n",
       "      <td>1</td>\n",
       "      <td>0.0</td>\n",
       "      <td>0.000000</td>\n",
       "    </tr>\n",
       "    <tr>\n",
       "      <th>4</th>\n",
       "      <td>T001</td>\n",
       "      <td>10</td>\n",
       "      <td>2</td>\n",
       "      <td>0.0</td>\n",
       "      <td>0.000000</td>\n",
       "    </tr>\n",
       "    <tr>\n",
       "      <th>5</th>\n",
       "      <td>T002</td>\n",
       "      <td>5</td>\n",
       "      <td>3</td>\n",
       "      <td>0.0</td>\n",
       "      <td>0.000000</td>\n",
       "    </tr>\n",
       "    <tr>\n",
       "      <th>6</th>\n",
       "      <td>T002</td>\n",
       "      <td>6</td>\n",
       "      <td>37</td>\n",
       "      <td>0.0</td>\n",
       "      <td>0.000000</td>\n",
       "    </tr>\n",
       "    <tr>\n",
       "      <th>7</th>\n",
       "      <td>T002</td>\n",
       "      <td>7</td>\n",
       "      <td>65</td>\n",
       "      <td>1.0</td>\n",
       "      <td>0.015385</td>\n",
       "    </tr>\n",
       "    <tr>\n",
       "      <th>8</th>\n",
       "      <td>T002</td>\n",
       "      <td>8</td>\n",
       "      <td>45</td>\n",
       "      <td>12.0</td>\n",
       "      <td>0.266667</td>\n",
       "    </tr>\n",
       "    <tr>\n",
       "      <th>9</th>\n",
       "      <td>T002</td>\n",
       "      <td>9</td>\n",
       "      <td>32</td>\n",
       "      <td>5.0</td>\n",
       "      <td>0.156250</td>\n",
       "    </tr>\n",
       "    <tr>\n",
       "      <th>10</th>\n",
       "      <td>T002</td>\n",
       "      <td>10</td>\n",
       "      <td>3</td>\n",
       "      <td>0.0</td>\n",
       "      <td>0.000000</td>\n",
       "    </tr>\n",
       "    <tr>\n",
       "      <th>11</th>\n",
       "      <td>T003</td>\n",
       "      <td>5</td>\n",
       "      <td>1</td>\n",
       "      <td>0.0</td>\n",
       "      <td>0.000000</td>\n",
       "    </tr>\n",
       "    <tr>\n",
       "      <th>12</th>\n",
       "      <td>T003</td>\n",
       "      <td>6</td>\n",
       "      <td>18</td>\n",
       "      <td>0.0</td>\n",
       "      <td>0.000000</td>\n",
       "    </tr>\n",
       "    <tr>\n",
       "      <th>13</th>\n",
       "      <td>T003</td>\n",
       "      <td>7</td>\n",
       "      <td>37</td>\n",
       "      <td>1.0</td>\n",
       "      <td>0.027027</td>\n",
       "    </tr>\n",
       "    <tr>\n",
       "      <th>14</th>\n",
       "      <td>T003</td>\n",
       "      <td>8</td>\n",
       "      <td>36</td>\n",
       "      <td>8.0</td>\n",
       "      <td>0.222222</td>\n",
       "    </tr>\n",
       "  </tbody>\n",
       "</table>\n",
       "</div>"
      ],
      "text/plain": [
       "    Trap  month  weight   WNV  WNV_ratio\n",
       "0   T001      6       1   0.0   0.000000\n",
       "1   T001      7       2   0.0   0.000000\n",
       "2   T001      8       9   0.0   0.000000\n",
       "3   T001      9       1   0.0   0.000000\n",
       "4   T001     10       2   0.0   0.000000\n",
       "5   T002      5       3   0.0   0.000000\n",
       "6   T002      6      37   0.0   0.000000\n",
       "7   T002      7      65   1.0   0.015385\n",
       "8   T002      8      45  12.0   0.266667\n",
       "9   T002      9      32   5.0   0.156250\n",
       "10  T002     10       3   0.0   0.000000\n",
       "11  T003      5       1   0.0   0.000000\n",
       "12  T003      6      18   0.0   0.000000\n",
       "13  T003      7      37   1.0   0.027027\n",
       "14  T003      8      36   8.0   0.222222"
      ]
     },
     "execution_count": 4,
     "metadata": {},
     "output_type": "execute_result"
    }
   ],
   "source": [
    "## get weight of traps by month... num of records w wnv present over total records for trap and month\n",
    "\n",
    "df_test = df.groupby(['Date','Trap','Species','WnvPresent']).weight.sum().reset_index()\n",
    "\n",
    "## Same conversions for date\n",
    "df_test['Date'] = pd.to_datetime(df_test['Date'])\n",
    "df_test['month'] = df_test.Date.apply(lambda x: x.month)\n",
    "df_test['year'] = df_test.Date.apply(lambda x: x.year)\n",
    "\n",
    "df_test_2 = df_test.groupby(['Trap','month','WnvPresent']).weight.sum().reset_index()\n",
    "df_test_2_full = df_test_2.groupby(['Trap','month']).weight.sum().reset_index()\n",
    "df_test_2_y = df_test_2[df_test_2.WnvPresent == 1].groupby(['Trap','month']).weight.sum().reset_index()\n",
    "\n",
    "df_test_2_y.rename(columns={'weight':'WNV'}, inplace = True)\n",
    "\n",
    "df_ratio = pd.merge(df_test_2_full, df_test_2_y, how = 'left', on = ['Trap','month'])\n",
    "df_ratio.fillna(0, inplace = True)\n",
    "df_ratio['WNV_ratio'] = df_ratio.WNV / df_ratio.weight\n",
    "df_ratio.head(15)"
   ]
  },
  {
   "cell_type": "markdown",
   "metadata": {},
   "source": [
    "The cell below was also done because the task was a Kaggle competition. In an effort to increase our model's AUC and prevent any false positives from occurring, we manually assigned certain traps a predicted probability of zero. These were traps that never caught a mosquito with WNV in the 4 years of training data, as well as the 3 months of the year that either never had a trap with WNV, or in the case of June and October, had at most 2 traps over the 4 year period where a trap caught a mosquito with WNV."
   ]
  },
  {
   "cell_type": "code",
   "execution_count": 5,
   "metadata": {
    "collapsed": false
   },
   "outputs": [],
   "source": [
    "## Automatically set specific probabilities to zero\n",
    "\n",
    "null_traps = df_test_2_y.groupby(['Trap']).WNV.sum().reset_index()\n",
    "null_traps.rename(columns={'WNV':'WnvEver'}, inplace = True)\n",
    "df_ratio = pd.merge(df_ratio, null_traps, how = 'left', on = ['Trap'])\n",
    "\n",
    "## Adjust weight - max ratio is 0.5, so adding 0.5 to make at least some probabilities = 1\n",
    "#df_ratio_2['WNV_ratio'] = df_ratio_2.WNV_ratio + 0.5\n",
    "\n",
    "df_ratio.loc[df_ratio.WnvEver == 0, 'WNV_ratio'] = 0.0\n",
    "\n",
    "df_ratio.loc[df_ratio.month == 5, 'WNV_ratio'] = 0.0\n",
    "df_ratio.loc[df_ratio.month == 6, 'WNV_ratio'] = 0.0\n",
    "df_ratio.loc[df_ratio.month == 10, 'WNV_ratio'] = 0.0\n"
   ]
  },
  {
   "cell_type": "code",
   "execution_count": 6,
   "metadata": {
    "collapsed": false
   },
   "outputs": [],
   "source": [
    "## Encode traps, since they are categorical values\n",
    "le = LabelEncoder()\n",
    "traps = le.fit_transform(df_ratio.Trap)\n",
    "traps = pd.DataFrame(data = traps, columns = ['Trap_Encode'])\n",
    "\n",
    "df_ratio_2 = pd.concat([df_ratio, traps], axis = 1)\n",
    "\n",
    "## Joining predicted probabilities to original dataframe w West Nile predictions\n",
    "\n",
    "prob_pred = pd.merge(df, df_ratio_2, how = 'left', on = ['Trap','month'])"
   ]
  },
  {
   "cell_type": "code",
   "execution_count": 18,
   "metadata": {
    "collapsed": false
   },
   "outputs": [],
   "source": [
    "### Transforming Kaggle submission file below\n",
    "\n",
    "test = pd.read_csv('/Users/jcarr/downloads/test.csv')\n",
    "\n",
    "traps = le.fit_transform(test.Trap)\n",
    "traps = pd.DataFrame(traps, columns = ['Trap_Encode'])\n",
    "\n",
    "test['Date'] = pd.to_datetime(test['Date'])\n",
    "test['month'] = test.Date.apply(lambda x: x.month)\n",
    "test['year'] = test.Date.apply(lambda x: x.year)\n",
    "test['WkNb'] = test.Date.apply(lambda x: float(x.strftime(\"%U\")))\n",
    "test['Trap'] = test.Trap.str[:4]\n",
    "test = pd.concat([test, traps], axis = 1)\n",
    "test = pd.merge(test, df_ratio, how = 'left', on = ['Trap','month'])\n",
    "test.head()\n",
    "\n",
    "\n",
    "test.loc[test.WnvEver == 0, 'WNV_ratio'] = 0.0\n",
    "test.loc[test.Species.str.contains('SALINARIUS'), 'WNV_ratio'] = 0.0\n",
    "test.loc[test.Species.str.contains('TERRITANS'), 'WNV_ratio'] = 0.0\n",
    "test.loc[test.Species.str.contains('TARSALIS'), 'WNV_ratio'] = 0.0\n",
    "test.loc[test.Species.str.contains('ERRATICUS'), 'WNV_ratio'] = 0.0\n",
    "test.loc[test.Species.str.contains('UNSPECIFIED'), 'WNV_ratio'] = 0.0\n",
    "\n",
    "test.loc[test.month == 5, 'WNV_ratio'] = 0.0\n",
    "test.loc[test.month == 6, 'WNV_ratio'] = 0.0\n",
    "test.loc[test.month == 10, 'WNV_ratio'] = 0.0"
   ]
  },
  {
   "cell_type": "code",
   "execution_count": 19,
   "metadata": {
    "collapsed": false
   },
   "outputs": [],
   "source": [
    "test['weight'] = 1\n",
    "\n",
    "## Calculate rates of traps having WNV by month, put in new DFs\n",
    "\n",
    "test_weight = test.groupby(['month','year','Trap']).weight.sum().reset_index()\n",
    "test_weight.rename(columns = {'weight': 'leakage'}, inplace = True)"
   ]
  },
  {
   "cell_type": "code",
   "execution_count": 20,
   "metadata": {
    "collapsed": false
   },
   "outputs": [],
   "source": [
    "test_2 = pd.merge(test, test_weight, how = 'left', on = ['month','year','Trap'])\n",
    "test_2['WNV_ratio_2'] = test_2.WNV_ratio * test_2.leakage\n",
    "test_2.fillna(0, inplace = True)"
   ]
  },
  {
   "cell_type": "markdown",
   "metadata": {},
   "source": [
    "XGBoost, a gradient-boosted decision tree classifier, provided us with the best scores as determined by AUC. We attempted using a Random Forest Classifier, as well as just using our created weighted trap value as the probability that a trap had WNV at the point it was checked. The process to create predictions with the XGBoost model is below.\n",
    "\n",
    "The features used are the trap, month, year, and week checked, latitude and longitude, and then the weighted value that was calculated for each trap."
   ]
  },
  {
   "cell_type": "code",
   "execution_count": 8,
   "metadata": {
    "collapsed": false
   },
   "outputs": [],
   "source": [
    "X_train = prob_pred[['Trap_Encode', 'month', 'year', 'WNV_ratio', 'Latitude', 'Longitude', 'WkNb']]\n",
    "y_train = prob_pred.WnvPresent\n",
    "\n",
    "cv_params = {'max_depth': [3,5,7], 'min_child_weight': [1,3,5], 'learning_rate': [0.1, 0.01], 'subsample': [0.7,0.8,0.9]}\n",
    "ind_params = {'n_estimators': 1000, 'seed':0, 'colsample_bytree': 0.8, \n",
    "             'objective': 'binary:logistic'}\n",
    "optimized_GBM = GridSearchCV(xgb.XGBClassifier(**ind_params), \n",
    "                            cv_params, \n",
    "                             scoring = 'roc_auc', cv = 5, n_jobs = -1)"
   ]
  },
  {
   "cell_type": "markdown",
   "metadata": {},
   "source": [
    "The code above selected the best parameters from the grid search, and now it is fit to the training data below."
   ]
  },
  {
   "cell_type": "code",
   "execution_count": 11,
   "metadata": {
    "collapsed": false
   },
   "outputs": [
    {
     "data": {
      "image/png": "[encoded data removed]",
      "text/plain": [
       "<matplotlib.figure.Figure at 0x116514e50>"
      ]
     },
     "metadata": {},
     "output_type": "display_data"
    }
   ],
   "source": [
    "actual = prob_pred.WnvPresent\n",
    "ratio = prob_pred.WNV_ratio\n",
    "\n",
    "FPR = dict()\n",
    "TPR = dict()\n",
    "ROC_AUC = dict()\n",
    "\n",
    "\n",
    "# For class 1, find the area under the curve\n",
    "FPR[1], TPR[1], _ = roc_curve(actual, ratio)\n",
    "ROC_AUC[1] = auc(FPR[1], TPR[1])\n",
    "\n",
    "# Plot of a ROC curve for class 1\n",
    "plt.plot(FPR[1], TPR[1], label='ROC curve (area = %0.2f)' % ROC_AUC[1], linewidth=4)\n",
    "plt.plot([0, 1], [0, 1], 'k--', linewidth=4)\n",
    "plt.xlim([0.0, 1.0])\n",
    "plt.ylim([0.0, 1.05])\n",
    "plt.xlabel('False Positive Rate')\n",
    "plt.ylabel('True Positive Rate')\n",
    "plt.title('ROC for West Nile Prediction - Weighted Trap Probability')\n",
    "plt.legend(loc=\"lower right\")\n",
    "plt.show()"
   ]
  },
  {
   "cell_type": "code",
   "execution_count": 9,
   "metadata": {
    "collapsed": false
   },
   "outputs": [
    {
     "data": {
      "text/plain": [
       "GridSearchCV(cv=5, error_score='raise',\n",
       "       estimator=XGBClassifier(base_score=0.5, colsample_bylevel=1, colsample_bytree=0.8,\n",
       "       gamma=0, learning_rate=0.1, max_delta_step=0, max_depth=3,\n",
       "       min_child_weight=1, missing=None, n_estimators=1000, nthread=-1,\n",
       "       objective='binary:logistic', reg_alpha=0, reg_lambda=1,\n",
       "       scale_pos_weight=1, seed=0, silent=True, subsample=1),\n",
       "       fit_params={}, iid=True, n_jobs=-1,\n",
       "       param_grid={'subsample': [0.7, 0.8, 0.9], 'learning_rate': [0.1, 0.01], 'max_depth': [3, 5, 7], 'min_child_weight': [1, 3, 5]},\n",
       "       pre_dispatch='2*n_jobs', refit=True, scoring='roc_auc', verbose=0)"
      ]
     },
     "execution_count": 9,
     "metadata": {},
     "output_type": "execute_result"
    }
   ],
   "source": [
    "optimized_GBM.fit(X_train, y_train)"
   ]
  },
  {
   "cell_type": "markdown",
   "metadata": {},
   "source": [
    "Below, the same transformations are applied to the test data that Kaggle uses to score the model, and the file is created that is submitted to Kaggle for scoring."
   ]
  },
  {
   "cell_type": "code",
   "execution_count": 23,
   "metadata": {
    "collapsed": false
   },
   "outputs": [],
   "source": [
    "X_test = test_2[['Trap_Encode', 'month', 'year', 'WNV_ratio', 'Latitude', 'Longitude', 'WkNb']]\n",
    "results = optimized_GBM.predict_proba(X_test)"
   ]
  },
  {
   "cell_type": "code",
   "execution_count": 28,
   "metadata": {
    "collapsed": false
   },
   "outputs": [],
   "source": [
    "xgbres = pd.DataFrame(results[:,1], columns=['xgbres'])\n",
    "final = test_2.join(xgbres)\n",
    "\n",
    "p = []\n",
    "\n",
    "p = pd.DataFrame(p)\n",
    "p['Id'] = final.Id\n",
    "p['WnvPresent'] = final.xgbres"
   ]
  },
  {
   "cell_type": "markdown",
   "metadata": {},
   "source": [
    "The results from dataframe 'p' are what was submitted to Kaggle - a unique record indicating which trap was checked and when, and the probability it contained WNV.\n",
    "```python\n",
    "p.to_csv('submission.csv', index=False)\n",
    "```"
   ]
  }
 ],
 "metadata": {
  "anaconda-cloud": {},
  "kernelspec": {
   "display_name": "Python [conda root]",
   "language": "python",
   "name": "conda-root-py"
  },
  "language_info": {
   "codemirror_mode": {
    "name": "ipython",
    "version": 2
   },
   "file_extension": ".py",
   "mimetype": "text/x-python",
   "name": "python",
   "nbconvert_exporter": "python",
   "pygments_lexer": "ipython2",
   "version": "2.7.12"
  }
 },
 "nbformat": 4,
 "nbformat_minor": 1
}
